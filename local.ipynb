{
 "cells": [
  {
   "cell_type": "code",
   "execution_count": 3,
   "metadata": {
    "id": "T6gAypHfm227"
   },
   "outputs": [],
   "source": [
    "import torch\n",
    "from torch import nn\n",
    "from torchvision import transforms, datasets\n",
    "from torch.utils.data import DataLoader"
   ]
  },
  {
   "cell_type": "code",
   "execution_count": 15,
   "metadata": {
    "colab": {
     "base_uri": "https://localhost:8080/"
    },
    "id": "oPTo3m885kpz",
    "outputId": "79a93977-69a9-4bbc-b3ac-c848c49bc4b2"
   },
   "outputs": [
    {
     "name": "stdout",
     "output_type": "stream",
     "text": [
      "2.5.1+cu121\n",
      "_CudaDeviceProperties(name='Tesla T4', major=7, minor=5, total_memory=15102MB, multi_processor_count=40, uuid=d12f8d69-20e6-8436-f0ca-f9ae2c416fcc, L2_cache_size=4MB)\n"
     ]
    }
   ],
   "source": [
    "print(torch.__version__)\n",
    "print(torch.cuda.get_device_properties(0))"
   ]
  },
  {
   "cell_type": "code",
   "execution_count": 4,
   "metadata": {
    "colab": {
     "base_uri": "https://localhost:8080/"
    },
    "id": "JTEkb_-1m6dg",
    "outputId": "9095b033-e405-4c8a-e0e6-cbb476683efe"
   },
   "outputs": [
    {
     "data": {
      "text/plain": [
       "(60000, 10000)"
      ]
     },
     "execution_count": 4,
     "metadata": {},
     "output_type": "execute_result"
    }
   ],
   "source": [
    "train_dataset = datasets.FashionMNIST(\n",
    "    root=\"data\",\n",
    "    transform=transforms.ToTensor(),\n",
    "    download=True,\n",
    ")\n",
    "\n",
    "test_dataset = datasets.FashionMNIST(\n",
    "    root=\"data\",\n",
    "    train=False,\n",
    "    transform=transforms.ToTensor(),\n",
    "    download=True\n",
    ")\n",
    "\n",
    "len(train_dataset), len(test_dataset)"
   ]
  },
  {
   "cell_type": "code",
   "execution_count": 5,
   "metadata": {
    "colab": {
     "base_uri": "https://localhost:8080/"
    },
    "id": "Qo39vnbQm_IX",
    "outputId": "b7421dd7-3bc0-48a2-ee85-7f586fafd0fd"
   },
   "outputs": [
    {
     "data": {
      "text/plain": [
       "(1875, 313)"
      ]
     },
     "execution_count": 5,
     "metadata": {},
     "output_type": "execute_result"
    }
   ],
   "source": [
    "train_dataloader = DataLoader(dataset=train_dataset,\n",
    "                              batch_size=32,\n",
    "                              shuffle=True)\n",
    "\n",
    "test_dataloader = DataLoader(dataset=test_dataset,\n",
    "                             batch_size=32)\n",
    "\n",
    "len(train_dataloader), len(test_dataloader)"
   ]
  },
  {
   "cell_type": "code",
   "execution_count": 6,
   "metadata": {
    "id": "dCMZI14JnTtd"
   },
   "outputs": [],
   "source": [
    "class FashionMNISTModelV3(nn.Module):\n",
    "    def __init__(self, input_shape: int, output_shape: int, hidden_units: int):\n",
    "        super().__init__()\n",
    "        self.conv_block_0 = nn.Sequential(\n",
    "            nn.Conv2d(in_channels=input_shape,\n",
    "                      out_channels=hidden_units,\n",
    "                      kernel_size=3,\n",
    "                      padding=1,\n",
    "                      stride=1),\n",
    "            nn.ReLU(),\n",
    "            nn.Conv2d(in_channels=hidden_units,\n",
    "                      out_channels=hidden_units,\n",
    "                      kernel_size=3,\n",
    "                      padding=1,\n",
    "                      stride=1),\n",
    "            nn.ReLU(),\n",
    "            nn.MaxPool2d(kernel_size=2)\n",
    "        )\n",
    "        self.conv_block_1 = nn.Sequential(\n",
    "            nn.Conv2d(in_channels=hidden_units,\n",
    "                      out_channels=hidden_units,\n",
    "                      kernel_size=3,\n",
    "                      padding=1,\n",
    "                      stride=1),\n",
    "            nn.ReLU(),\n",
    "            nn.Conv2d(in_channels=hidden_units,\n",
    "                      out_channels=hidden_units,\n",
    "                      kernel_size=3,\n",
    "                      stride=1,\n",
    "                      padding=1),\n",
    "            nn.ReLU(),\n",
    "            nn.MaxPool2d(kernel_size=2)\n",
    "        )\n",
    "        self.classifier = nn.Sequential(\n",
    "            nn.Flatten(),\n",
    "            nn.Linear(in_features=hidden_units*49,\n",
    "                      out_features=output_shape)\n",
    "        )\n",
    "    def forward(self, x):\n",
    "        return self.classifier(self.conv_block_1(self.conv_block_0(x)))"
   ]
  },
  {
   "cell_type": "code",
   "execution_count": 7,
   "metadata": {
    "colab": {
     "base_uri": "https://localhost:8080/"
    },
    "id": "7i06rjkKnXff",
    "outputId": "29b837ca-29e4-4704-d9c2-156319e4f35e"
   },
   "outputs": [
    {
     "data": {
      "text/plain": [
       "device(type='cpu')"
      ]
     },
     "execution_count": 7,
     "metadata": {},
     "output_type": "execute_result"
    }
   ],
   "source": [
    "torch.manual_seed(42)\n",
    "model = FashionMNISTModelV3(input_shape=1, output_shape=10, hidden_units=32)\n",
    "next(model.parameters()).device"
   ]
  },
  {
   "cell_type": "code",
   "execution_count": 8,
   "metadata": {
    "id": "KsW1NzvRnaYf"
   },
   "outputs": [],
   "source": [
    "def accuracy_fn(y_true, y_pred):\n",
    "    correct = torch.eq(y_true, y_pred).sum().item()\n",
    "    acc = (correct / len(y_pred)) * 100\n",
    "    return acc\n",
    "parameters = model.parameters()\n",
    "loss_fn = nn.CrossEntropyLoss()\n",
    "optimizer = torch.optim.SGD(params=parameters, lr=0.1)"
   ]
  },
  {
   "cell_type": "code",
   "execution_count": 9,
   "metadata": {
    "id": "DHmjokqAt7Bj"
   },
   "outputs": [],
   "source": [
    "def test_speed(device, epochs=3, random_seed=42):\n",
    "  torch.manual_seed(random_seed)\n",
    "  model.to(device)\n",
    "  for epoch in range(epochs):\n",
    "      print(\"---------------\")\n",
    "      train_loss, train_acc = 0, 0\n",
    "      model.train()\n",
    "      for batch, (X, y) in enumerate(train_dataloader):\n",
    "          X, y = X.to(device), y.to(device)\n",
    "          y_pred = model(X)\n",
    "          loss = loss_fn(y_pred, y)\n",
    "          train_loss += loss\n",
    "          train_acc += accuracy_fn(y_true=y, y_pred=torch.argmax(y_pred, dim=1))\n",
    "          optimizer.zero_grad()\n",
    "          loss.backward()\n",
    "          optimizer.step()\n",
    "      train_loss /= len(train_dataloader)\n",
    "      train_acc /= len(train_dataloader)\n",
    "      print(f\"Train Loss: {train_loss:.2f} | Train Acc: {train_acc:.2f}%\")\n",
    "\n",
    "      # Testing\n",
    "\n",
    "      test_loss, test_acc = 0, 0\n",
    "      model.eval()\n",
    "      with torch.inference_mode():\n",
    "          for X, y in test_dataloader:\n",
    "              X, y = X.to(device), y.to(device)\n",
    "              test_pred = model(X)\n",
    "              test_loss += loss_fn(test_pred, y)\n",
    "              test_acc += accuracy_fn(y_true=y, y_pred=torch.argmax(test_pred, dim=1))\n",
    "          test_loss /= len(test_dataloader)\n",
    "          test_acc /= len(test_dataloader)\n",
    "      print(f\"Test Loss: {test_loss:.2f} | Test Acc: {test_acc:.2f}%\")"
   ]
  },
  {
   "cell_type": "code",
   "execution_count": 10,
   "metadata": {
    "colab": {
     "base_uri": "https://localhost:8080/"
    },
    "id": "CAVZOeW5nmK5",
    "outputId": "c8e1ab74-173a-4bc5-9380-431fc8d4b872"
   },
   "outputs": [
    {
     "name": "stdout",
     "output_type": "stream",
     "text": [
      "---------------\n",
      "Train Loss: 0.51 | Train Acc: 81.45%\n",
      "Test Loss: 0.34 | Test Acc: 87.80%\n",
      "---------------\n",
      "Train Loss: 0.31 | Train Acc: 88.95%\n",
      "Test Loss: 0.30 | Test Acc: 89.35%\n",
      "---------------\n",
      "Train Loss: 0.27 | Train Acc: 90.31%\n",
      "Test Loss: 0.27 | Test Acc: 90.15%\n",
      "---------------\n",
      "Train Loss: 0.25 | Train Acc: 91.15%\n",
      "Test Loss: 0.26 | Test Acc: 90.51%\n",
      "---------------\n",
      "Train Loss: 0.23 | Train Acc: 91.73%\n",
      "Test Loss: 0.25 | Test Acc: 90.87%\n",
      "---------------\n",
      "Train Loss: 0.21 | Train Acc: 92.35%\n",
      "Test Loss: 0.25 | Test Acc: 90.76%\n",
      "---------------\n",
      "Train Loss: 0.20 | Train Acc: 92.71%\n",
      "Test Loss: 0.26 | Test Acc: 90.57%\n",
      "---------------\n",
      "Train Loss: 0.19 | Train Acc: 93.11%\n",
      "Test Loss: 0.26 | Test Acc: 90.72%\n",
      "1min 58s ± 5.23 s per loop (mean ± std. dev. of 7 runs, 1 loop each)\n"
     ]
    }
   ],
   "source": [
    "%%timeit\n",
    "\n",
    "test_speed(device=\"cpu\", epochs=1)"
   ]
  },
  {
   "cell_type": "code",
   "execution_count": 11,
   "metadata": {
    "colab": {
     "base_uri": "https://localhost:8080/"
    },
    "id": "Rj10fYbjoxtb",
    "outputId": "350666e0-6ce8-481a-d945-41e449116391"
   },
   "outputs": [
    {
     "name": "stdout",
     "output_type": "stream",
     "text": [
      "---------------\n",
      "Train Loss: 0.18 | Train Acc: 93.36%\n",
      "Test Loss: 0.26 | Test Acc: 90.75%\n",
      "---------------\n",
      "Train Loss: 0.18 | Train Acc: 93.60%\n",
      "Test Loss: 0.27 | Test Acc: 90.51%\n",
      "---------------\n",
      "Train Loss: 0.17 | Train Acc: 93.92%\n",
      "Test Loss: 0.28 | Test Acc: 90.37%\n",
      "---------------\n",
      "Train Loss: 0.16 | Train Acc: 94.04%\n",
      "Test Loss: 0.27 | Test Acc: 90.54%\n",
      "---------------\n",
      "Train Loss: 0.16 | Train Acc: 94.31%\n",
      "Test Loss: 0.28 | Test Acc: 90.60%\n",
      "---------------\n",
      "Train Loss: 0.15 | Train Acc: 94.41%\n",
      "Test Loss: 0.29 | Test Acc: 90.43%\n",
      "---------------\n",
      "Train Loss: 0.15 | Train Acc: 94.70%\n",
      "Test Loss: 0.30 | Test Acc: 90.50%\n",
      "---------------\n",
      "Train Loss: 0.14 | Train Acc: 94.72%\n",
      "Test Loss: 0.29 | Test Acc: 90.65%\n",
      "13 s ± 104 ms per loop (mean ± std. dev. of 7 runs, 1 loop each)\n"
     ]
    }
   ],
   "source": [
    "%%timeit\n",
    "\n",
    "test_speed(device=\"cuda\", epochs=1)"
   ]
  }
 ],
 "metadata": {
  "accelerator": "GPU",
  "colab": {
   "gpuType": "T4",
   "provenance": []
  },
  "kernelspec": {
   "display_name": "Python 3",
   "name": "python3"
  },
  "language_info": {
   "name": "python"
  }
 },
 "nbformat": 4,
 "nbformat_minor": 0
}
